{
 "cells": [
  {
   "cell_type": "markdown",
   "metadata": {},
   "source": [
    "## Notação matemática usada na prática"
   ]
  },
  {
   "cell_type": "markdown",
   "metadata": {},
   "source": [
    "Adotamos o padrão matemático para definir as variáveis a seguir. Nesse padrão, todas as variáveis que representam matrizes estão em maiúsculas, vetores em negrito e minúscula e, valores numéricos, como variáveis minusculas. Logo após, mapeamos cada variável matemática com uma respectiva variável em Python."
   ]
  },
  {
   "cell_type": "markdown",
   "metadata": {},
   "source": [
    "- $m$: quantidade de instancias\n",
    "- $f$: quantidade de atributos\n",
    "- $X$: Matriz de instâncias representadas pelo seus atributos dimensão $(m,f)$\n",
    "- $\\pmb{y}$: Vetor de tamanho $m$ representando a classe real de cada instância\n",
    "- $\\pmb{\\hat{y}}$: Vetor de predições que, para cada instancia, possui o valor predito para ela. Caso seja uma classificação binária, este valor será 0 ou 1\n",
    "- $\\pmb{w}$: vetor de pesos para ponderar os atributos (também chamado de parâmetros), tamanho $f$\n",
    "- $w_j$: $j$-ésimo valor do vetor $\\pmb{w}$ que pondera $j$-ésimo atributo da matriz $X$\n",
    "- $b$: Valor de viés da regressão logística (do inglês, bias term)\n",
    "- $\\pmb{z}$: vetor de tamanho $m$ representado o resultado da função z, para cada instancia $m$. \n",
    "- $z_i$: Representa o resultado da função z para a instancia $i$. \n",
    "- $\\pmb{a}$: Vetor de ativações de tamanho $m$ calculada por meio do vetor $z$\n",
    "- $a_i$: Valor de ativação da instancia $i$\n",
    "- $\\pmb{z^d}$: Derivada $\\frac{\\partial J}{\\partial z_i}$ para cada instância $i$ do modelo. Possui o mesmo tamanho que  $\\pmb{z}$\n",
    "- $\\pmb{w^d}$ Derivada $\\frac{\\partial J}{\\partial w_j}$ para cada peso $j$ do modelo, possui o mesmo tamanho de $\\pmb{w}$\n",
    "- $b^d$ Derivada $\\frac{\\partial J}{\\partial b}$ "
   ]
  },
  {
   "cell_type": "markdown",
   "metadata": {},
   "source": [
    "## Implementação das classes FuncaoAtivacao e RegressaoLogistica"
   ]
  },
  {
   "cell_type": "markdown",
   "metadata": {},
   "source": [
    "**Atividade 1: Função de ativação**: Iniciamente, você deverá criar a função de ativação e a derivada $\\frac{\\partial J}{\\partial w_j}$ quando se usa essa função. Para isso, você deverá criar uma instancia da classe `FuncaoAtivação` representando a função sigmoid. Para criar esse objeto, você deverá passar dois parametros: sua função de ativação, representada pelo parâmetro `funcao`, e a função que calcula o vetor gradiente $\\pmb{z^d}$, representada pelo parâmetro `dz_funcao`. Essa derivada é passada na função de ativação pois será diferente dependendo de qual função de ativação será usada.\n",
    "\n",
    "O atributo `funcao`, irá esperar um parametro  `z`, representando o vetor $\\pmb{z}$ e, o atributo `dz_funcao`, irá esperar como parametro `a`, `z` e `y` representando os vetores $\\pmb{a}$, $\\pmb{z}$ e $\\pmb{y}$. Os pâmetros `a`, `z` e `y` podem ser listas ou números reais, por isso use a biblioteca numpy para fazer as operações matemáticas ao invés das funções do pacote `math` durante toda a prática (ex. [np.exp](https://docs.scipy.org/doc/numpy/reference/generated/numpy.exp.html), [np.log](https://docs.scipy.org/doc/numpy/reference/generated/numpy.log.html)). Essa biblioteca trabalha com listas e vetores da mesma forma além de usar vetorização.\n",
    "\n",
    "\n",
    "<!--\n",
    "A palavra **função** está sendo usada em dois contextos aqui: você criará três **instancias da classe** FuncaoAtivacao, cada uma, passando como parametro uma função (e sua derivada). Por exemplo, **uma das instancias da da classe FuncaoAtivação** será a sigmoid em que se criará **um objeto de nome \"sigmoid\"** com dois parametros: (1) a **função de transformação sigmoid** e, outro, **a função do cálculo** da derivada $\\frac{\\partial J}{\\partial w_j}$ baseada na função de tranformação sigmoid. \n",
    "-->\n",
    "\n",
    "Para implementar as funções e passá-las como parâmetro, você pode criar uma função anônima por meio da [função lambda](https://docs.python.org/2/tutorial/controlflow.html#lambda-expressions).  Veja abaixo um exemplo de usar funções como parametros. "
   ]
  },
  {
   "cell_type": "code",
   "execution_count": 28,
   "metadata": {},
   "outputs": [
    {
     "name": "stdout",
     "output_type": "stream",
     "text": [
      "7\n",
      "..... Minha linda interface de dar oi ------\n",
      "Hi Alice! How are you?\n",
      ".....\n",
      "..... Minha linda interface de dar oi ------\n",
      "Oi Alice! Como vai?\n",
      ".....\n"
     ]
    }
   ],
   "source": [
    "#criação de uma funcao de soma\n",
    "soma = lambda x,y:x+y\n",
    "result = soma(3,4)\n",
    "print(result)\n",
    "\n",
    "#Exemplo mais bonitinho :)\n",
    "#Cada função retorna o oi em um determinado idioma\n",
    "#a função lambda recebe como parametro o nome da pessoa\n",
    "#e retorna uma string com a forma de dar oi nesse idioma\n",
    "oi_pt = lambda str_pessoa:f\"Oi {str_pessoa}! Como vai?\"\n",
    "oi_en = lambda str_pessoa:f\"Hi {str_pessoa}! How are you?\"\n",
    "\n",
    "def da_oi_para(funcao_de_dar_oi,str_pessoa):\n",
    "    print(\"..... Minha linda interface de dar oi ------\")\n",
    "    str_oi = funcao_de_dar_oi(str_pessoa)\n",
    "    print(str_oi)\n",
    "    print(\".....\")\n",
    "    \n",
    "#essa funcao é passada como parametro na funcao da_oi_para\n",
    "da_oi_para(oi_en,\"Alice\")\n",
    "da_oi_para(oi_pt,\"Alice\")\n",
    "\n",
    "\n",
    "     "
   ]
  },
  {
   "cell_type": "markdown",
   "metadata": {},
   "source": [
    "Faça o teste abaixo da função sigmoide e da sua derivada:"
   ]
  },
  {
   "cell_type": "code",
   "execution_count": 29,
   "metadata": {},
   "outputs": [
    {
     "name": "stderr",
     "output_type": "stream",
     "text": [
      ".\n",
      "----------------------------------------------------------------------\n",
      "Ran 1 test in 0.000s\n",
      "\n",
      "OK\n"
     ]
    }
   ],
   "source": [
    "!python -m regressao_logistica_test TestFuncaoAtivacao.test_sigmoid"
   ]
  },
  {
   "cell_type": "code",
   "execution_count": 30,
   "metadata": {},
   "outputs": [
    {
     "name": "stderr",
     "output_type": "stream",
     "text": [
      ".\n",
      "----------------------------------------------------------------------\n",
      "Ran 1 test in 0.000s\n",
      "\n",
      "OK\n"
     ]
    }
   ],
   "source": [
    "!python -m regressao_logistica_test TestFuncaoAtivacao.test_sigmoid_dz"
   ]
  },
  {
   "cell_type": "markdown",
   "metadata": {},
   "source": [
    "**Atividade 2 - implementação do método `z` da classe `RegressaoLogistica`**: Essa classe possui os seguintes atributos:\n",
    "\n",
    "- `arr_w`: vetor de pesos $\\pmb{w}$\n",
    "- `b`: Valor de viés da regressão logística\n",
    "- `func_ativacao`: função de ativação a ser usada. Esse atributo é uma função Python\n",
    "- `dz_func`: função derivada a ser usada de acordo com a função de ativação. Esse atributo também é uma função Python\n",
    "- `int_max_it`: Número de iterações (épocas) a rodar a regressão logística\n",
    "- `mat_x`: Matriz $X$ de atributos por instâncias\n",
    "- `arr_y`: Vetor de classes reais $\\pmb{y}$\n",
    "- `arr_z`: vetor de resultados $\\pmb{z}$ \n",
    "- `arr_a`: vetor de ativações $\\pmb{a}$\n",
    "- `gradiente`: Instancia da classe `Gradiente` que possui os atributos `arr_dz`, `arr_dw` e `db` representando, respectivamente, $\\pmb{z^d}$, $\\pmb{w^d}$ e $b^d$. \n",
    "\n",
    "Você deverá, por meio do vetor de pesos `arr_w`, valor `b` (ambos atributos da classe) e a matriz de atributos `mat_x` (passado como parâmetro) implementar o método `z` que retornará o vetor de resultados $\\pmb{z}$. Use o [método dot](https://docs.scipy.org/doc/numpy/reference/generated/numpy.matrix.dot.html) e o [atributo T](https://docs.scipy.org/doc/numpy-1.15.0/reference/generated/numpy.ndarray.T.html) dos arranjos numpy."
   ]
  },
  {
   "cell_type": "code",
   "execution_count": 31,
   "metadata": {},
   "outputs": [
    {
     "name": "stdout",
     "output_type": "stream",
     "text": [
      "(4,)\n",
      "(3, 4)\n"
     ]
    },
    {
     "name": "stderr",
     "output_type": "stream",
     "text": [
      ".\n",
      "----------------------------------------------------------------------\n",
      "Ran 1 test in 0.001s\n",
      "\n",
      "OK\n"
     ]
    }
   ],
   "source": [
    "!python -m regressao_logistica_test TestRegressaoLogistica.test_z"
   ]
  },
  {
   "cell_type": "markdown",
   "metadata": {},
   "source": [
    "**Atividade 3 - Forward propagation:** Implemente o método  `forward_propagation`. Nele, você irá usar a matriz $X$, representada por `mat_x`, o vetor de pesos $\\pmb{w}$, representado pelo atributo `arr_w` para calcular os vetores $\\pmb{z}$ e $\\pmb{a}$ por meio do método `z` e da função de ativação, armazenada no atributo `func_ativacao`. Verifique nesse método se o `arr_w` está definido, caso não esteja, você deverá inicializá-lo com zero em todas as posições (use a função [np.zeros](https://docs.scipy.org/doc/numpy/reference/generated/numpy.zeros.html)). Veja o tamanho de w para isso"
   ]
  },
  {
   "cell_type": "code",
   "execution_count": 32,
   "metadata": {},
   "outputs": [
    {
     "name": "stderr",
     "output_type": "stream",
     "text": [
      ".\n",
      "----------------------------------------------------------------------\n",
      "Ran 1 test in 0.001s\n",
      "\n",
      "OK\n"
     ]
    }
   ],
   "source": [
    "!python -m regressao_logistica_test TestRegressaoLogistica.test_forward_propagation"
   ]
  },
  {
   "cell_type": "markdown",
   "metadata": {},
   "source": [
    "**Atividade 4 - Backward propagation**: Você deverá implementar a função que calcula os gradientes conforme especificado no método"
   ]
  },
  {
   "cell_type": "code",
   "execution_count": 33,
   "metadata": {},
   "outputs": [
    {
     "name": "stdout",
     "output_type": "stream",
     "text": [
      "DZ(0) - teste:-0.323004143761477\n",
      "DZ(1) - teste:0.6153837563911821\n",
      "DZ(2) - teste:-0.2244359857309266\n"
     ]
    },
    {
     "name": "stderr",
     "output_type": "stream",
     "text": [
      ".\n",
      "----------------------------------------------------------------------\n",
      "Ran 1 test in 0.000s\n",
      "\n",
      "OK\n"
     ]
    }
   ],
   "source": [
    "!python -m regressao_logistica_test TestRegressaoLogistica.test_backward_propagation"
   ]
  },
  {
   "cell_type": "markdown",
   "metadata": {},
   "source": [
    "**Atividade 5 - Calcule a loss function**: Implemente no método `loss_function` a função de perda por meio da entropia cruzada, usando os atributos `arr_a` e `arr_y`"
   ]
  },
  {
   "cell_type": "code",
   "execution_count": 34,
   "metadata": {},
   "outputs": [
    {
     "name": "stderr",
     "output_type": "stream",
     "text": [
      ".\n",
      "----------------------------------------------------------------------\n",
      "Ran 1 test in 0.000s\n",
      "\n",
      "OK\n"
     ]
    }
   ],
   "source": [
    "!python -m regressao_logistica_test TestRegressaoLogistica.test_loss_function"
   ]
  },
  {
   "cell_type": "markdown",
   "metadata": {},
   "source": [
    "**Atividade 6 - Atualizar pesos**: Atualize os pesos `arr_w` e `b` por meio do gradiente e do parâmetro `learning_rate` "
   ]
  },
  {
   "cell_type": "code",
   "execution_count": 35,
   "metadata": {},
   "outputs": [
    {
     "name": "stderr",
     "output_type": "stream",
     "text": [
      ".\n",
      "----------------------------------------------------------------------\n",
      "Ran 1 test in 0.000s\n",
      "\n",
      "OK\n"
     ]
    }
   ],
   "source": [
    "!python -m regressao_logistica_test TestRegressaoLogistica.test_atualiza_pesos"
   ]
  },
  {
   "cell_type": "markdown",
   "metadata": {},
   "source": [
    "**Atividade 7 - método `fit`**: Cria o modelo de regressão logistica por meio de `int_max_it` épocas\n",
    "        imprime, a cada 10 épocas, a loss function obtida"
   ]
  },
  {
   "cell_type": "code",
   "execution_count": 36,
   "metadata": {},
   "outputs": [
    {
     "name": "stdout",
     "output_type": "stream",
     "text": [
      "Iteração: 0 Loss: 0.7799213641588739\n",
      "Iteração: 10 Loss: 0.6618551324404068\n",
      "Iteração: 20 Loss: 0.591922597135838\n",
      "Iteração: 30 Loss: 0.5474074262469677\n",
      "Iteração: 40 Loss: 0.5158256706140624\n",
      "Iteração: 50 Loss: 0.4910140171747017\n",
      "Iteração: 60 Loss: 0.4700249805408981\n",
      "Iteração: 70 Loss: 0.45143732529184816\n",
      "Iteração: 80 Loss: 0.43454059162632747\n",
      "Iteração: 90 Loss: 0.41895654371818614\n"
     ]
    },
    {
     "name": "stderr",
     "output_type": "stream",
     "text": [
      ".\n",
      "----------------------------------------------------------------------\n",
      "Ran 1 test in 0.003s\n",
      "\n",
      "OK\n"
     ]
    }
   ],
   "source": [
    "!python -m regressao_logistica_test TestRegressaoLogistica.test_fit"
   ]
  },
  {
   "cell_type": "markdown",
   "metadata": {},
   "source": [
    "**Atividade 8 - método predict**: usando as instancias `mat_x`, representando a matriz $X$ das instâncias que queremos prever, calcula-se o forward_propagation do modelo para, logo após, retornar o vetor de predições $\\hat{y}$. Para cada instancia $i$, esse vetor retornará 0 se $\\pmb{a_i}<0.5$ ou 1, caso contrário.\n",
    "Dica: você pode fazer isso de forma bem simples usando vetorização. Isso é mais eficiente computacionalmente. Exemplo:"
   ]
  },
  {
   "cell_type": "code",
   "execution_count": 37,
   "metadata": {},
   "outputs": [
    {
     "name": "stdout",
     "output_type": "stream",
     "text": [
      "[False False  True  True False]\n",
      "[0 0 3 3 0]\n"
     ]
    }
   ],
   "source": [
    "import numpy as np\n",
    "meu_querido_vetor = np.array([3,2,8,9,2])\n",
    "#a linha abaixo retorna true ou false, dependendo do valor\n",
    "print(meu_querido_vetor>4)\n",
    "#Se multiplicamos um número por um vetor numpy de true e false \n",
    "#. é o mesmo de multiplicarmos o número por 1 ou 0, respectivamente\n",
    "print(3*(meu_querido_vetor>4))\n"
   ]
  },
  {
   "cell_type": "code",
   "execution_count": 38,
   "metadata": {},
   "outputs": [
    {
     "name": "stderr",
     "output_type": "stream",
     "text": [
      ".\n",
      "----------------------------------------------------------------------\n",
      "Ran 1 test in 0.000s\n",
      "\n",
      "OK\n"
     ]
    }
   ],
   "source": [
    "!python -m regressao_logistica_test TestRegressaoLogistica.test_predict"
   ]
  },
  {
   "cell_type": "markdown",
   "metadata": {},
   "source": [
    "## Meu primeiro método de Aprendizado de Máquina: Vamos ver funcionando 😍 "
   ]
  },
  {
   "cell_type": "code",
   "execution_count": 1,
   "metadata": {},
   "outputs": [],
   "source": [
    "import pandas as pd\n",
    "import sklearn.datasets\n",
    "import matplotlib.pyplot as plt\n",
    "from io import StringIO\n",
    "from regressao_logistica import *\n",
    "from util import *"
   ]
  },
  {
   "cell_type": "markdown",
   "metadata": {},
   "source": [
    "Use o dataset abaixo. Mande rodar e plote também o XX. Veja que ele irá plotar uma divisão linear dos resultados. Ainda não é a melhor solução para os dados que temos abaixo. Alguns problemas, que dizemos que são **linearmente separáveis**, usar uma função linear já é o suficiente."
   ]
  },
  {
   "cell_type": "code",
   "execution_count": 2,
   "metadata": {},
   "outputs": [],
   "source": [
    "#Dados a serem usados\n",
    "from pprint import pprint\n",
    "\n",
    "\n",
    "mat_x, arr_y = sklearn.datasets.make_moons(400, noise=0.10)\n",
    "\n",
    "# data = open('column_3C.dat')\n",
    "# df = pd.read_csv(StringIO(data.read()),header=None,sep='\\s+')\n",
    "# df.columns=['Inci_P','Incl_P','All','Incl_S','Rp','Ge','Target']\n",
    "\n",
    "# mat_x = df.loc[:,'Inci_P':'Ge']\n",
    "# arr_y = df['Target']\n",
    "\n",
    "# # Crie o gráfico solicitado\n",
    "# DH     = df[df['Target'] == 'DH']\n",
    "# SL  = df[df['Target'] == 'SL']\n",
    "# NO = df[df['Target'] == 'NO'] \n",
    "\n",
    "# plot_gp1 = DH.plot.scatter(x='Inci_P', y='Incl_P', color='DarkBlue', label='DH')\n",
    "# SL.plot.scatter(x='Inci_P', y='Incl_P', color='Red', label='SL',ax=plot_gp1)\n",
    "# NO.plot.scatter(x='Inci_P', y='Incl_P', color='Green', label='NO',ax=plot_gp1)\n",
    "\n",
    "# plt.scatter(mat_x[:,0], mat_x[:,1], s=40, c=arr_y, cmap=plt.cm.Spectral)"
   ]
  },
  {
   "cell_type": "code",
   "execution_count": 25,
   "metadata": {},
   "outputs": [],
   "source": [
    "# Crie o modelo de regressão logistica para esses dados\n",
    "obj_regressao_logistica = RegressaoLogistica(sigmoid.funcao, sigmoid.dz_funcao, 1000)"
   ]
  },
  {
   "cell_type": "code",
   "execution_count": 26,
   "metadata": {},
   "outputs": [
    {
     "name": "stdout",
     "output_type": "stream",
     "text": [
      "Iteração: 0 Loss: 0.0\n",
      "Iteração: 10 Loss: 32.83513280429577\n",
      "Iteração: 20 Loss: 66.59747803717241\n",
      "Iteração: 30 Loss: 76.16617353618264\n",
      "Iteração: 40 Loss: 69.68758653982435\n",
      "Iteração: 50 Loss: 56.78652932342871\n",
      "Iteração: 60 Loss: 43.05557136251687\n",
      "Iteração: 70 Loss: 30.955119232263225\n",
      "Iteração: 80 Loss: 21.239956016427122\n",
      "Iteração: 90 Loss: 13.883064674492266\n",
      "Iteração: 100 Loss: 8.560172727870643\n",
      "Iteração: 110 Loss: 4.876634856226216\n",
      "Iteração: 120 Loss: 2.462315166477387\n",
      "Iteração: 130 Loss: 1.0038878687961972\n",
      "Iteração: 140 Loss: 0.24957307624272654\n",
      "Iteração: 150 Loss: 0.0030416928064148706\n",
      "Iteração: 160 Loss: 0.11409748403214603\n",
      "Iteração: 170 Loss: 0.46935944615313807\n",
      "Iteração: 180 Loss: 0.9841318526312094\n",
      "Iteração: 190 Loss: 1.5957469227260774\n",
      "Iteração: 200 Loss: 2.258296472158918\n",
      "Iteração: 210 Loss: 2.938544109035294\n",
      "Iteração: 220 Loss: 3.612790443650538\n",
      "Iteração: 230 Loss: 4.2644860188505245\n",
      "Iteração: 240 Loss: 4.8824212396732465\n",
      "Iteração: 250 Loss: 5.459357224182324\n",
      "Iteração: 260 Loss: 5.99099168812689\n",
      "Iteração: 270 Loss: 6.4751786258262305\n",
      "Iteração: 280 Loss: 6.911339977172005\n",
      "Iteração: 290 Loss: 7.30002247191405\n",
      "Iteração: 300 Loss: 7.642564285859595\n",
      "Iteração: 310 Loss: 7.940844810988531\n",
      "Iteração: 320 Loss: 8.197097380429499\n",
      "Iteração: 330 Loss: 8.413769713391348\n",
      "Iteração: 340 Loss: 8.593420551716333\n",
      "Iteração: 350 Loss: 8.738643751272535\n",
      "Iteração: 360 Loss: 8.852013196292894\n",
      "Iteração: 370 Loss: 8.936043494454447\n",
      "Iteração: 380 Loss: 8.993162613323769\n",
      "Iteração: 390 Loss: 9.025693530745468\n",
      "Iteração: 400 Loss: 9.035842664617627\n",
      "Iteração: 410 Loss: 9.025693374996564\n",
      "Iteração: 420 Loss: 8.997203233882681\n",
      "Iteração: 430 Loss: 8.952204065609855\n",
      "Iteração: 440 Loss: 8.892403996252538\n",
      "Iteração: 450 Loss: 8.81939093105574\n",
      "Iteração: 460 Loss: 8.73463701756377\n",
      "Iteração: 470 Loss: 8.63950375873\n",
      "Iteração: 480 Loss: 8.535247522295025\n",
      "Iteração: 490 Loss: 8.423025255847486\n",
      "Iteração: 500 Loss: 8.303900265561227\n",
      "Iteração: 510 Loss: 8.178847953981597\n",
      "Iteração: 520 Loss: 8.04876144095932\n",
      "Iteração: 530 Loss: 7.914457013874525\n",
      "Iteração: 540 Loss: 7.776679370162125\n",
      "Iteração: 550 Loss: 7.63610662801578\n",
      "Iteração: 560 Loss: 7.493355090917692\n",
      "Iteração: 570 Loss: 7.348983759001888\n",
      "Iteração: 580 Loss: 7.203498585770027\n",
      "Iteração: 590 Loss: 7.0573564827428905\n",
      "Iteração: 600 Loss: 6.910969077590577\n",
      "Iteração: 610 Loss: 6.764706233385201\n",
      "Iteração: 620 Loss: 6.618899338059766\n",
      "Iteração: 630 Loss: 6.473844374098946\n",
      "Iteração: 640 Loss: 6.32980477903605\n",
      "Iteração: 650 Loss: 6.187014107596357\n",
      "Iteração: 660 Loss: 6.04567850636947\n",
      "Iteração: 670 Loss: 5.905979011774717\n",
      "Iteração: 680 Loss: 5.768073681848111\n",
      "Iteração: 690 Loss: 5.63209957205768\n",
      "Iteração: 700 Loss: 5.498174564976278\n",
      "Iteração: 710 Loss: 5.366399063222279\n",
      "Iteração: 720 Loss: 5.23685755464031\n",
      "Iteração: 730 Loss: 5.109620058242803\n",
      "Iteração: 740 Loss: 4.984743458979518\n",
      "Iteração: 750 Loss: 4.862272738956176\n",
      "Iteração: 760 Loss: 4.742242112280425\n",
      "Iteração: 770 Loss: 4.624676070290302\n",
      "Iteração: 780 Loss: 4.5095903435070515\n",
      "Iteração: 790 Loss: 4.396992786259058\n",
      "Iteração: 800 Loss: 4.286884189548363\n",
      "Iteração: 810 Loss: 4.179259027371167\n",
      "Iteração: 820 Loss: 4.074106141362705\n",
      "Iteração: 830 Loss: 3.971409368316704\n",
      "Iteração: 840 Loss: 3.8711481148226685\n",
      "Iteração: 850 Loss: 3.7732978829798096\n",
      "Iteração: 860 Loss: 3.677830750873917\n",
      "Iteração: 870 Loss: 3.5847158112523116\n",
      "Iteração: 880 Loss: 3.493919571590956\n",
      "Iteração: 890 Loss: 3.4054063185260346\n",
      "Iteração: 900 Loss: 3.3191384494128378\n",
      "Iteração: 910 Loss: 3.2350767735777812\n",
      "Iteração: 920 Loss: 3.1531807856468843\n",
      "Iteração: 930 Loss: 3.0734089131623104\n",
      "Iteração: 940 Loss: 2.995718740538558\n",
      "Iteração: 950 Loss: 2.9200672112601835\n",
      "Iteração: 960 Loss: 2.8464108100841177\n",
      "Iteração: 970 Loss: 2.774705726878807\n",
      "Iteração: 980 Loss: 2.7049080036125726\n",
      "Iteração: 990 Loss: 2.6369736658886853\n"
     ]
    },
    {
     "data": {
      "image/png": "[encoded data removed]",
      "text/plain": [
       "<Figure size 640x480 with 1 Axes>"
      ]
     },
     "metadata": {},
     "output_type": "display_data"
    }
   ],
   "source": [
    "#crie o modelo usando mat_x e arr_y\n",
    "errors = obj_regressao_logistica.fit(mat_x, arr_y, 0.1)\n",
    "plt.plot(errors)\n",
    "plt.ylabel(\"Erro\")\n",
    "plt.show()"
   ]
  },
  {
   "cell_type": "code",
   "execution_count": 17,
   "metadata": {},
   "outputs": [
    {
     "name": "stdout",
     "output_type": "stream",
     "text": [
      "Accuracy: 0.815\n"
     ]
    },
    {
     "data": {
      "image/png": "[encoded data removed]",
      "text/plain": [
       "<Figure size 800x600 with 1 Axes>"
      ]
     },
     "metadata": {},
     "output_type": "display_data"
    }
   ],
   "source": [
    "# Apresente aqui a superfície de decisão desses dados\n",
    "from sklearn.metrics import accuracy_score\n",
    "\n",
    "plot_decision_boundary(obj_regressao_logistica,mat_x,arr_y)\n",
    "\n",
    "print(f\"Accuracy: {accuracy_score(obj_regressao_logistica.predict(mat_x), arr_y)}\")"
   ]
  },
  {
   "cell_type": "markdown",
   "metadata": {},
   "source": [
    "Descreva o impacto ao alterar a taxa de aprendizado e o número de épocas (`learning_rate` e `num_iteracoes`, respectivamente) algum desses parâmetros podem ocasionar overfitting/underfitting? Quando?"
   ]
  },
  {
   "cell_type": "markdown",
   "metadata": {},
   "source": []
  }
 ],
 "metadata": {
  "kernelspec": {
   "display_name": "Python 3.10.2 64-bit",
   "language": "python",
   "name": "python3"
  },
  "language_info": {
   "codemirror_mode": {
    "name": "ipython",
    "version": 3
   },
   "file_extension": ".py",
   "mimetype": "text/x-python",
   "name": "python",
   "nbconvert_exporter": "python",
   "pygments_lexer": "ipython3",
   "version": "3.10.2"
  },
  "vscode": {
   "interpreter": {
    "hash": "369f2c481f4da34e4445cda3fffd2e751bd1c4d706f27375911949ba6bb62e1c"
   }
  }
 },
 "nbformat": 4,
 "nbformat_minor": 2
}
